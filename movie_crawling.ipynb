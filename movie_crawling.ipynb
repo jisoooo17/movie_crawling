{
 "cells": [
  {
   "cell_type": "code",
   "execution_count": null,
   "id": "88caa0f8",
   "metadata": {
    "scrolled": false
   },
   "outputs": [],
   "source": [
    "# 이미지 파일을 다운로드하여 저장하는 코드\n",
    "\n",
    "# import requests\n",
    "# from bs4 import BeautifulSoup\n",
    "from selenium import webdriver\n",
    "from selenium.webdriver.common.by import By\n",
    "from selenium.webdriver.chrome.options import Options\n",
    "\n",
    "# (직접 작성 시) 업무 순서\n",
    "# 1. 검색창에 가서 연도별로 '20xx년영화순위' 라고 입력한다\n",
    "# 2. 스샷들이 보이면 마우스 우클릭 \n",
    "# 3. 우클릭 하여 저장한 이미지 파일에 \n",
    "#     연도와 순위로 파일 이름 지어주기\n",
    "\n",
    "# 주기적으로 웹사이트 구조가 바뀌므로 크롤링은 같은 구조로 되지 않는다.\n",
    "# 각 연도의 상위 5위 이므로 2중 for문을 생각해 낼 수 있다.\n",
    "# 바깥 for문은 각 연도별 영화검색어\n",
    "# 안쪽 for문은 1~5위 까지 5개의 영화 썸네일\n",
    "# 문자열 데이터 처리의 응용도 2번 들어감 (url입력 & 썸네일 파일 이름짓기)\n",
    "\n",
    "\n",
    "# 2020년부터 2023년까지의 각 연도에 대해 반복합니다.\n",
    "for year in range(2020,2024):\n",
    "\n",
    "# 해당 연도를 이용하여 다음(Daum) 검색 페이지의 URL을 생성합니다.\n",
    "    url = \"https://search.daum.net/search?nil_suggest=btn&w=tot&DA=SBC&q={}%EB%85%84%EC%98%81%ED%99%94%EC%88%9C%EC%9C%84\".format(year)\n",
    "    \n",
    "    # beautiful soup말고 selenium으로 라이브러리 교체\n",
    "    # Selenium을 사용하여 웹사이트 창을 띄웁니다.\n",
    "    chrome_options = Options()\n",
    "    chrome_options.add_argument(\"--headless\")\n",
    "    # 구글 크롬을 엽니다.  \n",
    "    driver = webdriver.Chrome(options=chrome_options)\n",
    "\n",
    "    driver.get(url)\n",
    "    #  selenium은 사용법이 살짝 다르다\n",
    "    #  CSS_SELECTOR 기준, \"thumb_img\" 로 이미지 파일을 검색합니다. (사용법 차이)\n",
    "    images = driver.find_elements(By.CSS_SELECTOR, \".c-list-basic.ty_flow35 .item-thumb img\")\n",
    "\n",
    "    # for문을 사용해서 아까와 동일하게 파일 이름을 정합니다.\n",
    "    for (idx, image) in enumerate(images):\n",
    "        # 연도와 순위를 개별 이미지 파일에 저장합니다.\n",
    "        screenshot_filename = \"screenshot_{}_{}.png\".format(year, idx + 1 )\n",
    "        image.screenshot(screenshot_filename)\n",
    "        print(\"이미지 파일 저장완료 :\", screenshot_filename)\n",
    "        \n",
    "        # 상위 5개 이미지만 다운로드하고 반복을 종료합니다.\n",
    "        if idx >= 4:\n",
    "            break"
   ]
  },
  {
   "cell_type": "code",
   "execution_count": null,
   "id": "af8c3f67",
   "metadata": {},
   "outputs": [],
   "source": [
    "# 이미지 썸네일의 URL을 출력하는 코드  \n",
    "\n",
    "from selenium import webdriver\n",
    "from selenium.webdriver.common.by import By\n",
    "from selenium.webdriver.chrome.options import Options\n",
    "\n",
    "# 크롬 옵션 설정 (헤드리스 모드)\n",
    "chrome_options = Options()\n",
    "chrome_options.add_argument(\"--headless\")\n",
    "\n",
    "# 크롬 드라이버 실행\n",
    "driver = webdriver.Chrome(options=chrome_options)\n",
    "\n",
    "# Daum 검색 결과 페이지로 이동\n",
    "url = \"https://search.daum.net/search?nil_suggest=btn&w=tot&DA=SBC&q=2023%EB%85%84%EC%98%81%ED%99%94%EC%88%9C%EC%9C%84\"\n",
    "driver.get(url)\n",
    "\n",
    "# 이미지 썸네일 요소 찾기\n",
    "thumbnails = driver.find_elements(By.CSS_SELECTOR, \".c-list-basic.ty_flow35 .item-thumb img\")\n",
    "\n",
    "# 이미지 썸네일 URL 출력\n",
    "for thumbnail in thumbnails:\n",
    "    thumbnail_url = thumbnail.get_attribute(\"src\")\n",
    "    print(thumbnail_url)\n",
    "\n",
    "# 브라우저 닫기\n",
    "driver.quit()\n"
   ]
  },
  {
   "cell_type": "code",
   "execution_count": null,
   "id": "4fe47fbb",
   "metadata": {},
   "outputs": [],
   "source": []
  },
  {
   "cell_type": "code",
   "execution_count": null,
   "id": "1d8e8cbb",
   "metadata": {},
   "outputs": [],
   "source": []
  }
 ],
 "metadata": {
  "kernelspec": {
   "display_name": "Python 3 (ipykernel)",
   "language": "python",
   "name": "python3"
  },
  "language_info": {
   "codemirror_mode": {
    "name": "ipython",
    "version": 3
   },
   "file_extension": ".py",
   "mimetype": "text/x-python",
   "name": "python",
   "nbconvert_exporter": "python",
   "pygments_lexer": "ipython3",
   "version": "3.12.1"
  }
 },
 "nbformat": 4,
 "nbformat_minor": 5
}
